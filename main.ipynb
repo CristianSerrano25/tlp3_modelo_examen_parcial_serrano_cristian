{
 "cells": [
  {
   "cell_type": "markdown",
   "id": "9fee5ee9",
   "metadata": {},
   "source": [
    "# Modelo de Examen Practico - TLP3 - Python para Ciencia de Datos.\n"
   ]
  },
  {
   "cell_type": "markdown",
   "id": "999099d0",
   "metadata": {},
   "source": [
    "**A partir del datasets brindado, realizar los siguientes procedimientos:**\n",
    "\n",
    "* Importar datasets con Pandas.\n",
    "* Explorar los datos con los metodos correspondientes. \n",
    "* Limpieza de los datos (Normalización de datos).\n",
    "* Obtener estadisticas.\n",
    "* Mostrar los datos procesados con graficos utilizando la libreria Matplotlib.\n",
    "* Exportar el contenido a un archivo sqlite utilizando PANDAS.\n",
    "\n",
    "\n",
    "**Importante: Se debe documentar cada procedimiento realizado, siguiendo la siguiente estructura:**\n",
    "\n",
    "1. Celda de Markdown (Documentación)\n",
    "2. Código (Sin comentarios, se debe documentar lo sufiente solo en la celda de markdown)."
   ]
  },
  {
   "cell_type": "markdown",
   "id": "dd91f969",
   "metadata": {},
   "source": [
    "## Actividades: \n",
    "### 1. Importación del Dataset con Pandas\n",
    "\n",
    "En esta sección, se debe utilizar la librería Pandas para cargar el archivo CSV que contiene los datos de las calificaciones en un DataFrame, que es la estructura de datos fundamental para el análisis con Pandas.\n",
    "\n",
    "### 2. Exploración Inicial de los Datos\n",
    "\n",
    "A continuación, se deben emplear métodos de Pandas para obtener una visión general del dataset. Esto incluye mostrar las primeras filas, obtener un resumen de la información del DataFrame (tipos de datos, valores no nulos), y calcular estadísticas descriptivas de las columnas numéricas.\n",
    "\n",
    "### 3. Limpieza y Normalización de los Datos\n",
    "\n",
    "Esta etapa crucial deben aplicar la corrección de diversos errores presentes en el dataset. Se abordarán los valores faltantes, la inconsistencia en el formato de la columna 'Asistencia', los posibles valores atípicos y la normalización de los nombres de estudiantes y materias a un formato consistente (por ejemplo, capitalización).\n",
    "\n",
    "### 4. Obtención de Estadísticas Descriptivas\n",
    "\n",
    "Después de la limpieza, deben calcular nuevamente las estadísticas descriptivas para observar el impacto del proceso de limpieza en los datos numéricos. También se pueden calcular estadísticas específicas por grupo (por ejemplo, promedio de calificaciones por materia).\n",
    "\n",
    "### 5. Visualización de los Datos con Matplotlib\n",
    "\n",
    "En esta sección, deben utilizar la librería Matplotlib para crear visualizaciones que permitan comprender mejor la distribución de las calificaciones y la asistencia. Se generarán histogramas, diagramas de dispersión y gráficos de barras.\n",
    "\n",
    "### 6. Exportación a Archivo SQLite\n",
    "\n",
    "Finalmente, deben utilizar la funcionalidad de Pandas para guardar el DataFrame procesado en una base de datos SQLite. Esto permite almacenar los datos de forma estructurada para su posterior consulta y uso.\n",
    "\n"
   ]
  },
  {
   "cell_type": "markdown",
   "id": "7450742d",
   "metadata": {},
   "source": [
    "# Importaciones"
   ]
  },
  {
   "cell_type": "code",
   "execution_count": 1,
   "id": "3c7c1c0d",
   "metadata": {},
   "outputs": [],
   "source": [
    "# Se procede a realizar las importaciones necesarias para realizar las actividades.\n",
    "import pandas as pd \n",
    "import sqlite3\n",
    "import matplotlib.pyplot as plt"
   ]
  },
  {
   "cell_type": "markdown",
   "id": "0699b486",
   "metadata": {},
   "source": [
    "## Acividad N° 1"
   ]
  },
  {
   "cell_type": "code",
   "execution_count": 2,
   "id": "fc9a2739",
   "metadata": {},
   "outputs": [],
   "source": [
    "# Se crea el dataframe a partir del archivo CSV.\n",
    "df = pd.read_csv(\"datasets_calificaciones.csv\")"
   ]
  },
  {
   "cell_type": "markdown",
   "id": "24f54903",
   "metadata": {},
   "source": [
    "## Actividad N° 2"
   ]
  },
  {
   "cell_type": "code",
   "execution_count": null,
   "id": "c6c104ac",
   "metadata": {},
   "outputs": [
    {
     "name": "stdout",
     "output_type": "stream",
     "text": [
      "        estudiante      Materia  Parcial 1  Parcial 2  Final  Asistencia\n",
      "0        Ana Pérez  matematicas        8.0        7.5    9.0          95\n",
      "1     Carlos López       fisica        6.2        7.0    7.8          88\n",
      "2      María Gómez      quimica        9.0        8.8    9.5         100\n",
      "3  Pedro Rodríguez     historia        7.5        6.0    7.0          75\n",
      "4     Laura Vargas  matematicas        7.9        9.2    8.5          92\n",
      "--------------------------------------------------------------------\n",
      "         estudiante      Materia  Parcial 1  Parcial 2  Final  Asistencia\n",
      "95  Josefina Torres     historia        7.4        6.8    7.2          81\n",
      "96  Bautista Vargas  matematicas        8.7        7.7    8.5          92\n",
      "97        Emma Soto       fisica        6.6        7.0    6.4          83\n",
      "98       Mateo Díaz      quimica        9.5        9.7    7.8          98\n",
      "99  Sofía Fernández     historia        7.1        7.6    7.5          87\n"
     ]
    }
   ],
   "source": [
    "# Se procese a usar los metodos \"head()\" y \"tail()\" para los primeros y ultimos registros del dataframe.\n",
    "print(df.head(10)) # Muestra las primeras 5 filas del dataframe\n",
    "print(\"--------------------------------------------------------------------\")\n",
    "print(df.tail(10)) # Muestra las ultimas 5 filas del dataframe"
   ]
  },
  {
   "cell_type": "code",
   "execution_count": 4,
   "id": "542580e2",
   "metadata": {},
   "outputs": [
    {
     "name": "stdout",
     "output_type": "stream",
     "text": [
      "<class 'pandas.core.frame.DataFrame'>\n",
      "RangeIndex: 100 entries, 0 to 99\n",
      "Data columns (total 6 columns):\n",
      " #   Column      Non-Null Count  Dtype \n",
      "---  ------      --------------  ----- \n",
      " 0   estudiante  100 non-null    object\n",
      " 1   Materia     100 non-null    object\n",
      " 2   Parcial 1   95 non-null     object\n",
      " 3   Parcial 2   90 non-null     object\n",
      " 4   Final       89 non-null     object\n",
      " 5   Asistencia  100 non-null    object\n",
      "dtypes: object(6)\n",
      "memory usage: 4.8+ KB\n",
      "None\n"
     ]
    }
   ],
   "source": [
    "# Se procede a usar el metodo \"info()\" para mostrar la informacion del dataframe como los valores nulos y el tipo de dato.\n",
    "print(df.info())"
   ]
  },
  {
   "cell_type": "code",
   "execution_count": 5,
   "id": "8bf7ff01",
   "metadata": {},
   "outputs": [
    {
     "name": "stdout",
     "output_type": "stream",
     "text": [
      "        estudiante      Materia Parcial 1 Parcial 2 Final Asistencia\n",
      "count          100          100        95        90    89        100\n",
      "unique          96            7        49        45    46         35\n",
      "top     mateo díaz  matematicas                 7.5   9.5        99%\n",
      "freq             2           25         7         5     4          5\n"
     ]
    }
   ],
   "source": [
    "# Se procede a usar el metodo \"describe()\" para calcular estadísticas de las columnas numéricas del dataframe.\n",
    "print(df.describe()) "
   ]
  },
  {
   "cell_type": "markdown",
   "id": "05bd1a4d",
   "metadata": {},
   "source": [
    "## Actividad N° 3"
   ]
  },
  {
   "cell_type": "code",
   "execution_count": 6,
   "id": "f85ee3ed",
   "metadata": {},
   "outputs": [],
   "source": [
    "# Se convierte en formato titulo el valor de estudiante.\n",
    "df[\"estudiante\"] = df[\"estudiante\"].str.title()\n",
    "\n",
    "# Se convierte a numerico las columnas de calificaciones y se reemplaza los valores no numerocos con NaN.\n",
    "# Ademas se reemplazan los valores NaN por la mediana de cada columna.\n",
    "for col in [\"Parcial 1\", \"Parcial 2\", \"Final\"]:\n",
    "    df[col] = pd.to_numeric(df[col], errors=\"coerce\")\n",
    "    df[col] = df[col].fillna(df[col].median())\n",
    "\n",
    "# Se convierte a numerico la columna de asistencia , se elimina simbolo \"%\" y se reemplaza errores con NaN .\n",
    "# Ademas se reemplazan los valores NaN por 0 y se limita el rango de asistencia entre 0 y 100.\n",
    "df[\"Asistencia\"] = pd.to_numeric(df[\"Asistencia\"].str.replace('%', '', regex=False), errors=\"coerce\")\n",
    "df[\"Asistencia\"] = df[\"Asistencia\"].fillna(0).clip(0, 100)\n",
    "\n",
    "\n"
   ]
  },
  {
   "cell_type": "markdown",
   "id": "7a8feb52",
   "metadata": {},
   "source": [
    "## Actividad Nº 4"
   ]
  },
  {
   "cell_type": "code",
   "execution_count": 7,
   "id": "9eeb8e01",
   "metadata": {},
   "outputs": [
    {
     "name": "stdout",
     "output_type": "stream",
     "text": [
      "         estudiante               Materia  Parcial 1  Parcial 2  Final  \\\n",
      "0         Ana Pérez           matematicas        8.0        7.5    9.0   \n",
      "1      Carlos López                fisica        6.2        7.0    7.8   \n",
      "2       María Gómez               quimica        9.0        8.8    9.5   \n",
      "3   Pedro Rodríguez              historia        7.5        6.0    7.0   \n",
      "4      Laura Vargas           matematicas        7.9        9.2    8.5   \n",
      "5       Javier Soto                fisica        5.8        6.5    6.0   \n",
      "6        Sofia Díaz     ciencias sociales        9.5        9.1    7.8   \n",
      "7  Miguel Fernández  literatura universal        8.0        7.8    8.2   \n",
      "8    Valentina Ruiz           matematicas        7.0        7.7    7.8   \n",
      "9      Diego Castro                fisica        6.8        7.2    7.5   \n",
      "\n",
      "   Asistencia  \n",
      "0          95  \n",
      "1          88  \n",
      "2         100  \n",
      "3          75  \n",
      "4          92  \n",
      "5          80  \n",
      "6          98  \n",
      "7          85  \n",
      "8          90  \n",
      "9          93  \n",
      "--------------------------------------------------------------------\n",
      "           estudiante      Materia  Parcial 1  Parcial 2  Final  Asistencia\n",
      "90       Santino Soto      quimica        9.3        9.0    9.7         100\n",
      "91      Catalina Díaz     historia        7.7        7.5    7.8          85\n",
      "92  Benicio Fernández  matematicas        7.9        8.1    8.8          95\n",
      "93        Amelia Ruiz       fisica        5.9        6.4    5.7          78\n",
      "94     Lorenzo Castro      quimica        8.9        9.2    9.1          96\n",
      "95    Josefina Torres     historia        7.4        6.8    7.2          81\n",
      "96    Bautista Vargas  matematicas        8.7        7.7    8.5          92\n",
      "97          Emma Soto       fisica        6.6        7.0    6.4          83\n",
      "98         Mateo Díaz      quimica        9.5        9.7    7.8          98\n",
      "99    Sofía Fernández     historia        7.1        7.6    7.5          87\n",
      "--------------------------------------------------------------------\n",
      "<class 'pandas.core.frame.DataFrame'>\n",
      "RangeIndex: 100 entries, 0 to 99\n",
      "Data columns (total 6 columns):\n",
      " #   Column      Non-Null Count  Dtype  \n",
      "---  ------      --------------  -----  \n",
      " 0   estudiante  100 non-null    object \n",
      " 1   Materia     100 non-null    object \n",
      " 2   Parcial 1   100 non-null    float64\n",
      " 3   Parcial 2   100 non-null    float64\n",
      " 4   Final       100 non-null    float64\n",
      " 5   Asistencia  100 non-null    int64  \n",
      "dtypes: float64(3), int64(1), object(2)\n",
      "memory usage: 4.8+ KB\n",
      "None\n",
      "--------------------------------------------------------------------\n",
      "        Parcial 1   Parcial 2       Final  Asistencia\n",
      "count  100.000000  100.000000  100.000000  100.000000\n",
      "mean     7.840000    7.815000    7.880000   88.180000\n",
      "std      1.134402    1.109771    1.111646    8.445165\n",
      "min      5.500000    5.800000    5.700000   70.000000\n",
      "25%      7.075000    6.975000    7.100000   81.750000\n",
      "50%      7.900000    7.700000    7.800000   88.500000\n",
      "75%      8.800000    8.800000    8.825000   96.000000\n",
      "max      9.900000    9.900000    9.900000  100.000000\n"
     ]
    }
   ],
   "source": [
    "# Se procede a mostrar los cambios realizados en el dataframe.\n",
    "print(df.head(10)) # Muestra las primeras 5 filas del dataframe\n",
    "print(\"--------------------------------------------------------------------\")\n",
    "print(df.tail(10)) # Muestra las ultimas 5 filas del dataframe\n",
    "print(\"--------------------------------------------------------------------\")\n",
    "print(df.info()) # Muestra la informacion del dataframe\n",
    "print(\"--------------------------------------------------------------------\")\n",
    "print(df.describe()) # Muestra las estadisticas del dataframe\n"
   ]
  }
 ],
 "metadata": {
  "kernelspec": {
   "display_name": "env",
   "language": "python",
   "name": "python3"
  },
  "language_info": {
   "codemirror_mode": {
    "name": "ipython",
    "version": 3
   },
   "file_extension": ".py",
   "mimetype": "text/x-python",
   "name": "python",
   "nbconvert_exporter": "python",
   "pygments_lexer": "ipython3",
   "version": "3.13.3"
  }
 },
 "nbformat": 4,
 "nbformat_minor": 5
}
